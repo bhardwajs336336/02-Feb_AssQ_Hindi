{
 "cells": [
  {
   "cell_type": "code",
   "execution_count": 1,
   "id": "dd3a1148-ec85-4214-bc90-d12397df44e8",
   "metadata": {},
   "outputs": [
    {
     "name": "stdout",
     "output_type": "stream",
     "text": [
      "After adding 1, sum is: 1\n",
      "After adding 2, sum is: 3\n",
      "After adding 3, sum is: 6\n",
      "After adding 4, sum is: 10\n",
      "After adding 5, sum is: 15\n",
      "After adding 6, sum is: 21\n",
      "After adding 7, sum is: 28\n",
      "After adding 8, sum is: 36\n",
      "After adding 9, sum is: 45\n",
      "After adding 10, sum is: 55\n",
      "Final Sum using for loop: 55\n"
     ]
    }
   ],
   "source": [
    "# Using for loop to calculate sum step by step\n",
    "sum_for = 0\n",
    "\n",
    "for i in range(1, 11):\n",
    "    sum_for += i\n",
    "    print(f\"After adding {i}, sum is: {sum_for}\")\n",
    "\n",
    "print(f\"Final Sum using for loop: {sum_for}\")\n"
   ]
  },
  {
   "cell_type": "code",
   "execution_count": 2,
   "id": "34455bd2-8820-4752-8307-b94ddf6378c4",
   "metadata": {},
   "outputs": [
    {
     "name": "stdout",
     "output_type": "stream",
     "text": [
      "After adding 1, sum is: 1\n",
      "After adding 2, sum is: 3\n",
      "After adding 3, sum is: 6\n",
      "After adding 4, sum is: 10\n",
      "After adding 5, sum is: 15\n",
      "After adding 6, sum is: 21\n",
      "After adding 7, sum is: 28\n",
      "After adding 8, sum is: 36\n",
      "After adding 9, sum is: 45\n",
      "After adding 10, sum is: 55\n",
      "Final Sum using while loop: 55\n"
     ]
    }
   ],
   "source": [
    "# Using while loop to calculate sum step by step\n",
    "sum_while = 0\n",
    "i = 1\n",
    "\n",
    "while i <= 10:\n",
    "    sum_while += i\n",
    "    print(f\"After adding {i}, sum is: {sum_while}\")\n",
    "    i += 1\n",
    "\n",
    "print(f\"Final Sum using while loop: {sum_while}\")\n"
   ]
  },
  {
   "cell_type": "code",
   "execution_count": null,
   "id": "38cf4348-675a-4e01-afe5-d55541e867df",
   "metadata": {},
   "outputs": [],
   "source": []
  }
 ],
 "metadata": {
  "kernelspec": {
   "display_name": "Python 3 (ipykernel)",
   "language": "python",
   "name": "python3"
  },
  "language_info": {
   "codemirror_mode": {
    "name": "ipython",
    "version": 3
   },
   "file_extension": ".py",
   "mimetype": "text/x-python",
   "name": "python",
   "nbconvert_exporter": "python",
   "pygments_lexer": "ipython3",
   "version": "3.12.6"
  }
 },
 "nbformat": 4,
 "nbformat_minor": 5
}
