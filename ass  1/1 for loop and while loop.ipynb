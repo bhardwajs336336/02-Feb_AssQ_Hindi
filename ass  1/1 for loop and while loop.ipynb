{
 "cells": [
  {
   "cell_type": "code",
   "execution_count": 1,
   "id": "eb50268a-7b84-497e-bf58-3077621275db",
   "metadata": {},
   "outputs": [
    {
     "name": "stdout",
     "output_type": "stream",
     "text": [
      "The price of apple is 50 INR.\n",
      "The price of banana is 20 INR.\n",
      "The price of cherry is 75 INR.\n",
      "The price of date is 100 INR.\n"
     ]
    }
   ],
   "source": [
    "# List of fruits and their prices\n",
    "fruits = {\"apple\": 50, \"banana\": 20, \"cherry\": 75, \"date\": 100}\n",
    "\n",
    "# Using a for loop to iterate over the dictionary\n",
    "for fruit, price in fruits.items():\n",
    "    print(f\"The price of {fruit} is {price} INR.\")"
   ]
  },
  {
   "cell_type": "code",
   "execution_count": 2,
   "id": "dada1d38-a159-4e9a-866a-eaa79498c543",
   "metadata": {},
   "outputs": [
    {
     "name": "stdout",
     "output_type": "stream",
     "text": [
      "Selling one apple.\n",
      "Selling one banana.\n",
      "Selling one cherry.\n",
      "Selling one date.\n",
      "Selling one apple.\n",
      "Selling one banana.\n",
      "Selling one cherry.\n",
      "Selling one date.\n",
      "Selling one apple.\n",
      "Selling one banana.\n",
      "Selling one cherry.\n",
      "Selling one date.\n",
      "Selling one apple.\n",
      "Selling one banana.\n",
      "Selling one cherry.\n",
      "Selling one date.\n",
      "Selling one apple.\n",
      "Selling one banana.\n",
      "Selling one cherry.\n",
      "Selling one date.\n",
      "Selling one apple.\n",
      "Selling one banana.\n",
      "cherry is out of stock.\n",
      "Selling one date.\n",
      "Selling one apple.\n",
      "Selling one banana.\n",
      "cherry is out of stock.\n",
      "Selling one date.\n",
      "Selling one apple.\n",
      "Selling one banana.\n",
      "cherry is out of stock.\n",
      "Selling one date.\n",
      "Selling one apple.\n",
      "Selling one banana.\n",
      "cherry is out of stock.\n",
      "date is out of stock.\n",
      "Selling one apple.\n",
      "Selling one banana.\n",
      "cherry is out of stock.\n",
      "date is out of stock.\n",
      "apple is out of stock.\n",
      "Selling one banana.\n",
      "cherry is out of stock.\n",
      "date is out of stock.\n",
      "apple is out of stock.\n",
      "Selling one banana.\n",
      "cherry is out of stock.\n",
      "date is out of stock.\n",
      "apple is out of stock.\n",
      "Selling one banana.\n",
      "cherry is out of stock.\n",
      "date is out of stock.\n",
      "apple is out of stock.\n",
      "Selling one banana.\n",
      "cherry is out of stock.\n",
      "date is out of stock.\n",
      "apple is out of stock.\n",
      "Selling one banana.\n",
      "cherry is out of stock.\n",
      "date is out of stock.\n",
      "All fruits are sold out!\n"
     ]
    }
   ],
   "source": [
    "# Initial stock of fruits\n",
    "stock = {\"apple\": 10, \"banana\": 15, \"cherry\": 5, \"date\": 8}\n",
    "\n",
    "# Selling fruits until stock runs out\n",
    "while any(stock.values()):\n",
    "    for fruit, quantity in stock.items():\n",
    "        if quantity > 0:\n",
    "            print(f\"Selling one {fruit}.\")\n",
    "            stock[fruit] -= 1\n",
    "        else:\n",
    "            print(f\"{fruit} is out of stock.\")\n",
    "\n",
    "print(\"All fruits are sold out!\")\n"
   ]
  },
  {
   "cell_type": "markdown",
   "id": "8fc4c907-a1a3-4018-bfb4-4eac4e3a13d1",
   "metadata": {},
   "source": [
    "## Initial stock of fruits\n",
    "stock = {\"apple\": 10, \"banana\": 15, \"cherry\": 5, \"date\": 8}\n",
    "\n",
    "# List of fruits to ask for\n",
    "fruits_to_buy = [\"apple\", \"banana\", \"cherry\", \"date\"]\n",
    "\n",
    "def check_and_buy(fruit, quantity):\n",
    "    if fruit in stock:\n",
    "        if stock[fruit] >= quantity:\n",
    "            stock[fruit] -= quantity\n",
    "            print(f\"Purchased {quantity} {fruit}(s). Remaining stock: {stock[fruit]}\")\n",
    "        else:\n",
    "            print(f\"Sorry, we only have {stock[fruit]} {fruit}(s) left.\")\n",
    "    else:\n",
    "        print(f\"Sorry, we don't have {fruit} in stock.\")\n",
    "\n",
    "# Using a for loop to iterate over the list of fruits\n",
    "for fruit in fruits_to_buy:\n",
    "    quantity = int(input(f\"Enter the quantity of {fruit} you want to buy: \"))\n",
    "    check_and_buy(fruit, quantity)\n",
    "\n",
    "print(\"Thank you for shopping with us!\")\n"
   ]
  },
  {
   "cell_type": "code",
   "execution_count": 4,
   "id": "c742d215-a2f6-4bab-bdea-d67e1593802d",
   "metadata": {},
   "outputs": [
    {
     "name": "stdin",
     "output_type": "stream",
     "text": [
      "Enter the fruit you want to buy (or 'exit' to stop):  apple\n",
      "Enter the quantity of apple you want to buy:  100\n"
     ]
    },
    {
     "name": "stdout",
     "output_type": "stream",
     "text": [
      "Sorry, we only have 10 apple(s) left.\n"
     ]
    },
    {
     "name": "stdin",
     "output_type": "stream",
     "text": [
      "Enter the fruit you want to buy (or 'exit' to stop):  exit\n"
     ]
    },
    {
     "name": "stdout",
     "output_type": "stream",
     "text": [
      "Thank you for shopping with us!\n"
     ]
    }
   ],
   "source": [
    "# Initial stock of fruits\n",
    "stock = {\"apple\": 10, \"banana\": 15, \"cherry\": 5, \"date\": 8}\n",
    "\n",
    "def check_and_buy(fruit, quantity):\n",
    "    if fruit in stock:\n",
    "        if stock[fruit] >= quantity:\n",
    "            stock[fruit] -= quantity\n",
    "            print(f\"Purchased {quantity} {fruit}(s). Remaining stock: {stock[fruit]}\")\n",
    "        else:\n",
    "            print(f\"Sorry, we only have {stock[fruit]} {fruit}(s) left.\")\n",
    "    else:\n",
    "        print(f\"Sorry, we don't have {fruit} in stock.\")\n",
    "\n",
    "# Using a while loop to continuously ask for input\n",
    "while True:\n",
    "    fruit = input(\"Enter the fruit you want to buy (or 'exit' to stop): \").lower()\n",
    "    if fruit == 'exit':\n",
    "        break\n",
    "    quantity = int(input(f\"Enter the quantity of {fruit} you want to buy: \"))\n",
    "    check_and_buy(fruit, quantity)\n",
    "\n",
    "print(\"Thank you for shopping with us!\")\n"
   ]
  },
  {
   "cell_type": "code",
   "execution_count": null,
   "id": "b613b5a5-c9eb-4ffd-be07-21b01142526c",
   "metadata": {},
   "outputs": [],
   "source": []
  }
 ],
 "metadata": {
  "kernelspec": {
   "display_name": "Python 3 (ipykernel)",
   "language": "python",
   "name": "python3"
  },
  "language_info": {
   "codemirror_mode": {
    "name": "ipython",
    "version": 3
   },
   "file_extension": ".py",
   "mimetype": "text/x-python",
   "name": "python",
   "nbconvert_exporter": "python",
   "pygments_lexer": "ipython3",
   "version": "3.12.6"
  }
 },
 "nbformat": 4,
 "nbformat_minor": 5
}
