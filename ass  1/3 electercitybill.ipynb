{
 "cells": [
  {
   "cell_type": "code",
   "execution_count": 3,
   "id": "5cdfc0bc-bfe8-498d-859c-69f35887a9e6",
   "metadata": {},
   "outputs": [
    {
     "name": "stdin",
     "output_type": "stream",
     "text": [
      "Enter the number of units consumed:  350\n"
     ]
    },
    {
     "name": "stdout",
     "output_type": "stream",
     "text": [
      "Total electricity bill: Rs. 3050.0\n",
      "Test passed: For 310 units, the bill is Rs. 2250.0\n",
      "Numbers whose cubes are divisible by 4 or 5 (using for loop):\n",
      "[2, 4, 5, 6, 8, 10, 12, 14, 15, 16, 18, 20, 22, 24, 25, 26, 28, 30, 32, 34, 35, 36, 38, 40, 42, 44, 45, 46, 48, 50, 52, 54, 55, 56, 58, 60, 62, 64, 65, 66, 68, 70, 72, 74, 75, 76, 78, 80, 82, 84, 85, 86, 88, 90, 92, 94, 95, 96, 98, 100]\n",
      "Numbers whose cubes are divisible by 4 or 5 (using while loop):\n",
      "[2, 4, 5, 6, 8, 10, 12, 14, 15, 16, 18, 20, 22, 24, 25, 26, 28, 30, 32, 34, 35, 36, 38, 40, 42, 44, 45, 46, 48, 50, 52, 54, 55, 56, 58, 60, 62, 64, 65, 66, 68, 70, 72, 74, 75, 76, 78, 80, 82, 84, 85, 86, 88, 90, 92, 94, 95, 96, 98, 100]\n"
     ]
    }
   ],
   "source": [
    "# Function to calculate the electricity bill\n",
    "def calculate_electricity_bill(units):\n",
    "    if units <= 100:\n",
    "        bill = units * 4.5\n",
    "    elif units <= 200:\n",
    "        bill = (100 * 4.5) + ((units - 100) * 6)\n",
    "    elif units <= 300:\n",
    "        bill = (100 * 4.5) + (100 * 6) + ((units - 200) * 10)\n",
    "    else:\n",
    "        bill = (100 * 4.5) + (100 * 6) + (100 * 10) + ((units - 300) * 20)\n",
    "    return bill\n",
    "\n",
    "# Take user input for the number of units consumed\n",
    "units_consumed = int(input(\"Enter the number of units consumed: \"))\n",
    "total_bill = calculate_electricity_bill(units_consumed)\n",
    "print(f\"Total electricity bill: Rs. {total_bill}\")\n",
    "\n",
    "# Test case to verify the calculation\n",
    "test_units = 310\n",
    "expected_bill = 2250\n",
    "calculated_bill = calculate_electricity_bill(test_units)\n",
    "assert calculated_bill == expected_bill, f\"Test failed: Expected {expected_bill}, got {calculated_bill}\"\n",
    "print(f\"Test passed: For {test_units} units, the bill is Rs. {calculated_bill}\")\n",
    "\n",
    "# List to store numbers whose cubes are divisible by 4 or 5\n",
    "divisible_by_4_or_5 = []\n",
    "\n",
    "# Using for loop to calculate cubes and check divisibility\n",
    "for num in range(1, 101):\n",
    "    cube = num ** 3\n",
    "    if cube % 4 == 0 or cube % 5 == 0:\n",
    "        divisible_by_4_or_5.append(num)\n",
    "\n",
    "print(\"Numbers whose cubes are divisible by 4 or 5 (using for loop):\")\n",
    "print(divisible_by_4_or_5)\n",
    "\n",
    "# List to store numbers whose cubes are divisible by 4 or 5\n",
    "divisible_by_4_or_5_while = []\n",
    "\n",
    "# Using while loop to calculate cubes and check divisibility\n",
    "num = 1\n",
    "while num <= 100:\n",
    "    cube = num ** 3\n",
    "    if cube % 4 == 0 or cube % 5 == 0:\n",
    "        divisible_by_4_or_5_while.append(num)\n",
    "    num += 1\n",
    "\n",
    "print(\"Numbers whose cubes are divisible by 4 or 5 (using while loop):\")\n",
    "print(divisible_by_4_or_5_while)\n"
   ]
  },
  {
   "cell_type": "code",
   "execution_count": null,
   "id": "2d133a2d-78f5-4a83-8b5c-95c7ead15358",
   "metadata": {},
   "outputs": [],
   "source": []
  },
  {
   "cell_type": "code",
   "execution_count": null,
   "id": "1e5cdc25-e1ce-41a7-bec2-5edd9b5fea4d",
   "metadata": {},
   "outputs": [],
   "source": []
  }
 ],
 "metadata": {
  "kernelspec": {
   "display_name": "Python 3 (ipykernel)",
   "language": "python",
   "name": "python3"
  },
  "language_info": {
   "codemirror_mode": {
    "name": "ipython",
    "version": 3
   },
   "file_extension": ".py",
   "mimetype": "text/x-python",
   "name": "python",
   "nbconvert_exporter": "python",
   "pygments_lexer": "ipython3",
   "version": "3.12.6"
  }
 },
 "nbformat": 4,
 "nbformat_minor": 5
}
