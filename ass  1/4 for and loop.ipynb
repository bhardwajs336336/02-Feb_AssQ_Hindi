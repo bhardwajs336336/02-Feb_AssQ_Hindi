{
 "cells": [
  {
   "cell_type": "code",
   "execution_count": 1,
   "id": "235604c7-5a14-4bf4-b8a4-c3d333f3e796",
   "metadata": {},
   "outputs": [
    {
     "name": "stdout",
     "output_type": "stream",
     "text": [
      "Numbers whose cubes are divisible by 4 or 5 (using for loop):\n",
      "[2, 4, 5, 6, 8, 10, 12, 14, 15, 16, 18, 20, 22, 24, 25, 26, 28, 30, 32, 34, 35, 36, 38, 40, 42, 44, 45, 46, 48, 50, 52, 54, 55, 56, 58, 60, 62, 64, 65, 66, 68, 70, 72, 74, 75, 76, 78, 80, 82, 84, 85, 86, 88, 90, 92, 94, 95, 96, 98, 100]\n"
     ]
    }
   ],
   "source": [
    "# List to store numbers whose cubes are divisible by 4 or 5\n",
    "divisible_by_4_or_5_for = []\n",
    "\n",
    "# Using for loop to calculate cubes and check divisibility\n",
    "for num in range(1, 101):\n",
    "    cube = num ** 3\n",
    "    if cube % 4 == 0 or cube % 5 == 0:\n",
    "        divisible_by_4_or_5_for.append(num)\n",
    "\n",
    "print(\"Numbers whose cubes are divisible by 4 or 5 (using for loop):\")\n",
    "print(divisible_by_4_or_5_for)\n"
   ]
  },
  {
   "cell_type": "code",
   "execution_count": 2,
   "id": "c02f7fa2-576a-4161-8cd9-b55f5f498667",
   "metadata": {},
   "outputs": [
    {
     "name": "stdout",
     "output_type": "stream",
     "text": [
      "Numbers whose cubes are divisible by 4 or 5 (using while loop):\n",
      "[2, 4, 5, 6, 8, 10, 12, 14, 15, 16, 18, 20, 22, 24, 25, 26, 28, 30, 32, 34, 35, 36, 38, 40, 42, 44, 45, 46, 48, 50, 52, 54, 55, 56, 58, 60, 62, 64, 65, 66, 68, 70, 72, 74, 75, 76, 78, 80, 82, 84, 85, 86, 88, 90, 92, 94, 95, 96, 98, 100]\n"
     ]
    }
   ],
   "source": [
    "# List to store numbers whose cubes are divisible by 4 or 5\n",
    "divisible_by_4_or_5_while = []\n",
    "\n",
    "# Using while loop to calculate cubes and check divisibility\n",
    "num = 1\n",
    "while num <= 100:\n",
    "    cube = num ** 3\n",
    "    if cube % 4 == 0 or cube % 5 == 0:\n",
    "        divisible_by_4_or_5_while.append(num)\n",
    "    num += 1\n",
    "\n",
    "print(\"Numbers whose cubes are divisible by 4 or 5 (using while loop):\")\n",
    "print(divisible_by_4_or_5_while)\n"
   ]
  },
  {
   "cell_type": "code",
   "execution_count": null,
   "id": "060174d8-974f-436c-88ff-b2899ab16a2b",
   "metadata": {},
   "outputs": [],
   "source": []
  }
 ],
 "metadata": {
  "kernelspec": {
   "display_name": "Python 3 (ipykernel)",
   "language": "python",
   "name": "python3"
  },
  "language_info": {
   "codemirror_mode": {
    "name": "ipython",
    "version": 3
   },
   "file_extension": ".py",
   "mimetype": "text/x-python",
   "name": "python",
   "nbconvert_exporter": "python",
   "pygments_lexer": "ipython3",
   "version": "3.12.6"
  }
 },
 "nbformat": 4,
 "nbformat_minor": 5
}
