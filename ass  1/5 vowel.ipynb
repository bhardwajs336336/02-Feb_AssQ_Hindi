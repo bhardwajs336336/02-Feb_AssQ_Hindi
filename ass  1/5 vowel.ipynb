{
 "cells": [
  {
   "cell_type": "code",
   "execution_count": 2,
   "id": "a0de6e80-c1c9-4d74-8063-6818a5eca614",
   "metadata": {},
   "outputs": [
    {
     "name": "stdout",
     "output_type": "stream",
     "text": [
      "Total number of vowels in the string: 12\n"
     ]
    }
   ],
   "source": [
    "# Given string\n",
    "string = \"I want to become a data scientist\"\n",
    "\n",
    "# Vowels to check\n",
    "vowels = \"aeiouAEIOU\"\n",
    "\n",
    "# Initialize count\n",
    "vowel_count = 0\n",
    "\n",
    "# Loop through each character in the string\n",
    "for char in string:\n",
    "    if char in vowels:\n",
    "        vowel_count += 1\n",
    "\n",
    "print(f\"Total number of vowels in the string: {vowel_count}\")\n"
   ]
  },
  {
   "cell_type": "code",
   "execution_count": null,
   "id": "cc2b9718-420d-42a0-9e5a-ca54c2027ef5",
   "metadata": {},
   "outputs": [],
   "source": []
  }
 ],
 "metadata": {
  "kernelspec": {
   "display_name": "Python 3 (ipykernel)",
   "language": "python",
   "name": "python3"
  },
  "language_info": {
   "codemirror_mode": {
    "name": "ipython",
    "version": 3
   },
   "file_extension": ".py",
   "mimetype": "text/x-python",
   "name": "python",
   "nbconvert_exporter": "python",
   "pygments_lexer": "ipython3",
   "version": "3.12.6"
  }
 },
 "nbformat": 4,
 "nbformat_minor": 5
}
